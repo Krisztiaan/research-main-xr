{
 "cells": [
  {
   "cell_type": "markdown",
   "metadata": {},
   "source": [
    "# MAIN-XR-MD Phase-0 \u00b7 Colab/Local Launcher\n",
    "Use this notebook to run on Google Colab or locally with GPU, TPU, or CPU. It dynamically installs the right JAX build and optional T5 (Hugging Face Transformers, Flax) dependencies, then runs quick validation steps."
   ]
  },
  {
   "cell_type": "markdown",
   "metadata": {},
   "source": [
    "## 1) Runtime Selection\n",
    "- In Colab, set the runtime you want under: Runtime \u2192 Change runtime type \u2192 Hardware accelerator: GPU or TPU.\n",
    "- If left on None (CPU), the notebook will still work.\n",
    "- You can keep the selection on Auto below; the installer will detect and adapt."
   ]
  },
  {
   "cell_type": "code",
   "execution_count": null,
   "metadata": {
    "cellView": "form"
   },
   "outputs": [],
   "source": [
    "#@title Backend and Options\n",
    "# Choose backend: 'auto', 'gpu', 'tpu', or 'cpu'\n",
    "BACKEND = 'auto'  #@param ['auto', 'gpu', 'tpu', 'cpu']\n",
    "# Install Hugging Face Transformers (Flax) for optional T5 demo\n",
    "WITH_T5 = False  #@param {type:'boolean'}\n",
    "# Optional: Git URL of this repo to clone when running on Colab\n",
    "REPO_URL = 'https://github.com/krisztiaan/research-main-xr.git'  #@param {type:'string'}\n",
    "\n",
    "import os, sys, subprocess, shlex, json, textwrap, platform\n",
    "IN_COLAB = 'google.colab' in sys.modules\n",
    "print(f'IN_COLAB={IN_COLAB}, requested BACKEND={BACKEND}, WITH_T5={WITH_T5}')\n",
    "\n",
    "def _run(cmd, check=True):\n",
    "    print('\u2192', cmd)\n",
    "    return subprocess.run(cmd, shell=True, check=check)\n",
    "\n",
    "def _pip(*args):\n",
    "    cmd = f\"{shlex.quote(sys.executable)} -m pip install --upgrade \" + ' '.join(args)\n",
    "    return _run(cmd)\n",
    "\n",
    "def detect_backend(requested='auto'):\n",
    "    requested = (requested or 'auto').lower()\n",
    "    # TPU heuristic\n",
    "    has_tpu = bool(os.environ.get('COLAB_TPU_ADDR'))\n",
    "    # GPU heuristic\n",
    "    has_gpu = _run('nvidia-smi >/dev/null 2>&1', check=False).returncode == 0\n",
    "    if requested == 'auto':\n",
    "        if has_tpu: return 'tpu'\n",
    "        if has_gpu: return 'gpu'\n",
    "        return 'cpu'\n",
    "    if requested == 'gpu' and not has_gpu:\n",
    "        print('Requested GPU but none detected \u2014 falling back to CPU. Use Runtime \u2192 Change runtime type \u2192 GPU.')\n",
    "        return 'cpu'\n",
    "    if requested == 'tpu' and not has_tpu:\n",
    "        print('Requested TPU but none detected \u2014 falling back to CPU. Use Runtime \u2192 Change runtime type \u2192 TPU.')\n",
    "        return 'cpu'\n",
    "    return requested\n",
    "\n",
    "def install_stack(backend, with_t5=False):\n",
    "    print(f'Installing stack for backend={backend} (Colab={IN_COLAB})')\n",
    "    _pip('pip', 'setuptools', 'wheel')\n",
    "    if backend == 'gpu':\n",
    "        # Try CUDA 12 wheels first, then 11 as fallback.\n",
    "        try:\n",
    "            _pip('\"jax[cuda12_pip]\"', '-f', 'https://storage.googleapis.com/jax-releases/jax_cuda_releases.html')\n",
    "        except Exception:\n",
    "            print('CUDA 12 wheels failed; trying CUDA 11\u2026')\n",
    "            _pip('\"jax[cuda11_pip]\"', '-f', 'https://storage.googleapis.com/jax-releases/jax_cuda_releases.html')\n",
    "        os.environ.setdefault('XLA_PYTHON_CLIENT_MEM_FRACTION', '0.85')\n",
    "    elif backend == 'tpu':\n",
    "        _pip('\"jax[tpu]\"', '-f', 'https://storage.googleapis.com/jax-releases/libtpu_releases.html')\n",
    "    else:  # cpu\n",
    "        _pip('jax')\n",
    "    # Project deps (lightweight)\n",
    "    # If editable project present, prefer that; otherwise just install runtime deps.\n",
    "    if os.path.exists('pyproject.toml') or os.path.exists('setup.cfg') or os.path.exists('setup.py'):\n",
    "        try:\n",
    "            _pip('-e', '.')\n",
    "        except Exception as e:\n",
    "            print('Editable install failed; continuing with requirements if present.', e)\n",
    "    if os.path.exists('requirements.txt'):\n",
    "        try:\n",
    "            _pip('-r', 'requirements.txt')\n",
    "        except Exception as e:\n",
    "            print('requirements.txt install failed; continuing.', e)\n",
    "    else:\n",
    "        # Fallback minimal deps for standalone Colab notebook\n",
    "        base = [\n",
    "            'flax>=0.12.0', 'optax>=0.2.6', 'chex>=0.1.91',\n",
    "            'gymnasium>=1.2.1', 'gymnax>=0.0.9', 'craftax>=1.5.0',\n",
    "            'orjson>=3.11.3', 'numpy>=2.3.3', 'tqdm>=4.67.1',\n",
    "            'msgpack>=1.1.1', 'msgpack-numpy>=0.4.8'\n",
    "        ]\n",
    "        _pip(*base)\n",
    "    if with_t5:\n",
    "        _pip('transformers', 'datasets', 'accelerate', 'sentencepiece', 'huggingface_hub')\n",
    "    print('\u2713 Install complete')\n",
    "\n",
    "BACKEND = detect_backend(BACKEND)\n",
    "if BACKEND == 'cpu':\n",
    "    os.environ.setdefault('JAX_PLATFORMS', 'cpu')\n",
    "install_stack(BACKEND, with_t5=WITH_T5)\n",
    "\n",
    "print('Environment ready.')\n"
   ]
  },
  {
   "cell_type": "code",
   "execution_count": null,
   "metadata": {},
   "outputs": [],
   "source": [
    "# Verify JAX devices\n",
    "import os, jax\n",
    "print('JAX default backend:', jax.default_backend())\n",
    "print('JAX devices:', jax.devices())\n",
    "if os.environ.get('JAX_PLATFORMS'):\n",
    "    print('JAX_PLATFORMS=', os.environ['JAX_PLATFORMS'])\n"
   ]
  },
  {
   "cell_type": "markdown",
   "metadata": {},
   "source": [
    "## 2) (Optional) Clone Repo for Editing\n",
    "If you opened just this notebook in Colab and want to edit code, set `REPO_URL` above and run the cell below."
   ]
  },
  {
   "cell_type": "code",
   "execution_count": null,
   "metadata": {},
   "outputs": [],
   "source": [
    "import os, subprocess\n",
    "if REPO_URL:\n",
    "    repo_name = REPO_URL.rstrip('/').split('/')[-1]\n",
    "    if repo_name.endswith('.git'): repo_name = repo_name[:-4]\n",
    "    if not os.path.isdir(repo_name):\n",
    "        subprocess.check_call(['git', 'clone', REPO_URL])\n",
    "    print('Repo available at:', repo_name)\n",
    "else:\n",
    "    print('REPO_URL not set; skipping clone.')\n"
   ]
  },
  {
   "cell_type": "markdown",
   "metadata": {},
   "source": [
    "## 3) Quick Rollout (Project)\n",
    "Runs a short training loop to verify wiring. Adjust to your needs."
   ]
  },
  {
   "cell_type": "code",
   "execution_count": null,
   "metadata": {},
   "outputs": [],
   "source": [
    "%%bash\n",
    "set -euxo pipefail\n",
    "# If you cloned your repo above, `cd` into it; otherwise use current dir.\n",
    "if [ -d main_xr_md_jax_phase0 ]; then cd main_xr_md_jax_phase0; fi\n",
    "python -m mxrmd_jax.train_jax \\\n",
    "  --env craftax \\\n",
    "  --env-id craftax-classic-v1 \\\n",
    "  --num-envs 256 \\\n",
    "  --unroll 32 \\\n",
    "  --total-frames 131072 \\\n",
    "  --run-dir runs/colab_quickcheck\n"
   ]
  },
  {
   "cell_type": "markdown",
   "metadata": {},
   "source": [
    "## 4) Optional: T5 (Flax) Smoke Test\n",
    "If `WITH_T5` is enabled above, run a tiny text2text generation using FLAN-T5."
   ]
  },
  {
   "cell_type": "code",
   "execution_count": null,
   "metadata": {},
   "outputs": [],
   "source": [
    "if WITH_T5:\n",
    "    import jax, jax.numpy as jnp\n",
    "    from transformers import AutoTokenizer, FlaxAutoModelForSeq2SeqLM\n",
    "    model_name = 'google/flan-t5-small'\n",
    "    tok = AutoTokenizer.from_pretrained(model_name)\n",
    "    model = FlaxAutoModelForSeq2SeqLM.from_pretrained(model_name)\n",
    "    inputs = tok('translate English to German: A beautiful day.', return_tensors='np')\n",
    "    gen = model.generate(**inputs, max_length=40)\n",
    "    print(tok.batch_decode(gen.sequences, skip_special_tokens=True)[0])\n",
    "else:\n",
    "    print('WITH_T5 is False; skipping T5 demo.')\n"
   ]
  },
  {
   "cell_type": "markdown",
   "metadata": {},
   "source": [
    "## 5) Save Artifacts (Colab)\n",
    "Mount Google Drive if you plan to keep checkpoints."
   ]
  },
  {
   "cell_type": "code",
   "execution_count": null,
   "metadata": {},
   "outputs": [],
   "source": [
    "try:\n",
    "    from google.colab import drive\n",
    "    drive.mount('/content/drive')\n",
    "    # Adjust paths as needed\n",
    "    !rsync -a /content/runs/ /content/drive/MyDrive/mxrmd_colab_runs\n",
    "except Exception as e:\n",
    "    print('Drive mount not available or failed; skipping.', e)\n"
   ]
  }
 ],
 "metadata": {
  "kernelspec": {
   "display_name": "Python 3",
   "language": "python",
   "name": "python3"
  },
  "language_info": {
   "name": "python",
   "version": "3.11"
  }
 },
 "nbformat": 4,
 "nbformat_minor": 5
}