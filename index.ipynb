{
  "cells": [
    {
      "cell_type": "markdown",
      "metadata": {},
      "source": [
        "# MAIN-XR-MD Phase-0 \u00b7 Colab Launcher\n",
        "Use this notebook to spin up a Google Colab session with GPU support, install CUDA-enabled JAX, and run a short validation rollout for the project."
      ]
    },
    {
      "cell_type": "markdown",
      "metadata": {},
      "source": [
        "## 1. Select GPU Runtime\n",
        "Before running any cells below, open **Runtime \u2192 Change runtime type \u2192 GPU**. If you only need a CPU smoke test, you can keep the default CPU runtime and set `JAX_PLATFORMS=cpu` in later cells."
      ]
    },
    {
      "cell_type": "code",
      "execution_count": null,
      "metadata": {
        "id": "check-gpu"
      },
      "outputs": [],
      "source": [
        "!nvidia-smi || echo 'No NVIDIA GPU attached; fallback to CPU runtime.'"
      ]
    },
    {
      "cell_type": "markdown",
      "metadata": {},
      "source": [
        "## 2. Install Dependencies\n",
        "Installs CUDA-enabled JAX and this repository from Git (change the URL if you are working from a fork)."
      ]
    },
    {
      "cell_type": "code",
      "execution_count": null,
      "metadata": {
        "id": "install-deps"
      },
      "outputs": [],
      "source": [
        "%%bash\n",
        "set -euxo pipefail\n",
        "python -m pip install --upgrade pip setuptools wheel\n",
        "python -m pip install --upgrade \"jax[cuda12_pip]>=0.4.30\" -f https://storage.googleapis.com/jax-releases/jax_cuda_releases.html\n",
        "python -m pip install --upgrade git+https://github.com/krisztiaan/main_xr_md_jax_phase0.git"
      ]
    },
    {
      "cell_type": "markdown",
      "metadata": {},
      "source": [
        "## 3. Clone Repo Snapshot (Editable)\n",
        "Colab installs the library above; clone if you want to edit code inline."
      ]
    },
    {
      "cell_type": "code",
      "execution_count": null,
      "metadata": {
        "id": "clone-repo"
      },
      "outputs": [],
      "source": [
        "%%bash\n",
        "set -euxo pipefail\n",
        "if [ ! -d main_xr_md_jax_phase0 ]; then\n",
        "  git clone https://github.com/krisztiaan/main_xr_md_jax_phase0.git\n",
        "fi"
      ]
    },
    {
      "cell_type": "markdown",
      "metadata": {},
      "source": [
        "## 4. Quick GPU Rollout\n",
        "Runs a short training loop to verify everything is wired correctly. Adjust hyperparameters for longer jobs."
      ]
    },
    {
      "cell_type": "code",
      "execution_count": null,
      "metadata": {
        "id": "run-train"
      },
      "outputs": [],
      "source": [
        "%%bash\n",
        "set -euxo pipefail\n",
        "cd main_xr_md_jax_phase0\n",
        "python -m pip install -r requirements.txt\n",
        "python -m mxrmd_jax.train_jax \\\n",
        "  --env craftax \\\n",
        "  --env-id craftax-classic-v1 \\\n",
        "  --num-envs 256 \\\n",
        "  --unroll 16 \\\n",
        "  --total-frames 262144 \\\n",
        "  --r-reset 20 \\\n",
        "  --run-dir /content/runs/colab_demo\n",
        "ls -R /content/runs/colab_demo"
      ]
    },
    {
      "cell_type": "markdown",
      "metadata": {},
      "source": [
        "## 5. Save Artifacts\n",
        "Mount Google Drive if you plan to keep checkpoints beyond this session."
      ]
    },
    {
      "cell_type": "code",
      "execution_count": null,
      "metadata": {
        "id": "drive-mount"
      },
      "outputs": [],
      "source": [
        "from google.colab import drive\n",
        "drive.mount('/content/drive')\n",
        "!rsync -a /content/runs/colab_demo /content/drive/MyDrive/mxrmd_colab_runs"
      ]
    }
  ],
  "metadata": {
    "kernelspec": {
      "display_name": "Python 3",
      "language": "python",
      "name": "python3"
    },
    "language_info": {
      "name": "python",
      "version": "3.11"
    }
  },
  "nbformat": 4,
  "nbformat_minor": 5
}